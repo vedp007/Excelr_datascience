{
 "cells": [
  {
   "cell_type": "code",
   "execution_count": 23,
   "id": "a52e0e04-2c42-4bc1-a69b-131466c83f68",
   "metadata": {},
   "outputs": [],
   "source": [
    "import numpy as np\n",
    "import scipy.stats as st"
   ]
  },
  {
   "cell_type": "code",
   "execution_count": 29,
   "id": "8df374db-4c6f-4bd4-8285-0ee49413ec05",
   "metadata": {},
   "outputs": [
    {
     "name": "stdout",
     "output_type": "stream",
     "text": [
      "t statistic value: 2.976842734370834\n",
      "mean 1.2386666666666666\n",
      "standard deaviation 0.18661427836285438\n"
     ]
    }
   ],
   "source": [
    "#data\n",
    "printhead=[1.13, 1.55, 1.43, 0.92, 1.25, 1.36, 1.32, 0.85, 1.07, 1.48, 1.20, 1.33, 1.18, 1.22, 1.29]\n",
    "confidence=0.99\n",
    "alpha=1-confidence\n",
    "degreefreedom=n-1                          \n",
    "tstatisticsvalue=st.t.ppf(1-alpha/2,df)\n",
    "print(\"t statistic value:\",tstatisticsvalue)\n",
    "n=15\n",
    "mean=np.mean(printhead)\n",
    "sd=np.std(printhead)\n",
    "print(\"mean\",mean)\n",
    "print(\"standard deaviation\",sd)"
   ]
  },
  {
   "cell_type": "code",
   "execution_count": 43,
   "id": "c00ba6d6-95e0-4197-bce1-7614ce5659d4",
   "metadata": {},
   "outputs": [
    {
     "name": "stdout",
     "output_type": "stream",
     "text": [
      "0.004768805603985404\n"
     ]
    }
   ],
   "source": [
    "st.t.cdf(2.97,15)\n",
    "pvalue=1-st.t.cdf(2.97,15)\n",
    "print(pvalue)\n",
    "#hence pvalue<alpha reject null hypothesis"
   ]
  },
  {
   "cell_type": "markdown",
   "id": "71499bd9-6902-40fa-9a5b-9ce342f0b3b2",
   "metadata": {},
   "source": [
    "b. Build 99% Confidence Interval Using Known Population Standard Deviation\n",
    "If it were known that the population standard deviation is 0.2 million characters, construct a 99% confidence interval for the mean number of characters printed before failure.\n"
   ]
  },
  {
   "cell_type": "code",
   "execution_count": 46,
   "id": "e2970d24-8dbb-47b2-9380-0461f0fdea48",
   "metadata": {},
   "outputs": [],
   "source": [
    "#now population standard deviation is known so we will use z methos"
   ]
  },
  {
   "cell_type": "code",
   "execution_count": 48,
   "id": "822f42f6-ae83-48d5-a8ec-be5e30587646",
   "metadata": {},
   "outputs": [],
   "source": [
    "sigma=0.2\n",
    "zcritical=st.norm.ppf(1-alpha/2)"
   ]
  },
  {
   "cell_type": "code",
   "execution_count": 50,
   "id": "8c27c78b-9bf9-4cb1-9185-5feb954dff84",
   "metadata": {},
   "outputs": [
    {
     "name": "stdout",
     "output_type": "stream",
     "text": [
      "2.5758293035489004\n"
     ]
    }
   ],
   "source": [
    "print(zcritical)"
   ]
  },
  {
   "cell_type": "code",
   "execution_count": null,
   "id": "dd736043-fe47-439a-8ea5-313ac55d882b",
   "metadata": {},
   "outputs": [],
   "source": []
  }
 ],
 "metadata": {
  "kernelspec": {
   "display_name": "Python 3 (ipykernel)",
   "language": "python",
   "name": "python3"
  },
  "language_info": {
   "codemirror_mode": {
    "name": "ipython",
    "version": 3
   },
   "file_extension": ".py",
   "mimetype": "text/x-python",
   "name": "python",
   "nbconvert_exporter": "python",
   "pygments_lexer": "ipython3",
   "version": "3.12.7"
  }
 },
 "nbformat": 4,
 "nbformat_minor": 5
}
