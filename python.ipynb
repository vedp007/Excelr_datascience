{
 "cells": [
  {
   "cell_type": "markdown",
   "id": "b8e1d43b-42a4-48a8-af9b-9f6c58059a14",
   "metadata": {},
   "source": [
    "Exercise 1: Prime Numbers"
   ]
  },
  {
   "cell_type": "code",
   "execution_count": 8,
   "id": "a64b6e6d-ec5a-4436-ab68-6032f959167e",
   "metadata": {},
   "outputs": [
    {
     "name": "stdin",
     "output_type": "stream",
     "text": [
      "Enter number to check prime or not: 1\n"
     ]
    },
    {
     "name": "stdout",
     "output_type": "stream",
     "text": [
      "1 not prime\n",
      "1  is prime\n"
     ]
    }
   ],
   "source": [
    "x=int(input(\"Enter number to check prime or not:\"))\n",
    "y=False\n",
    "if x<2:\n",
    "    print(x, \"not prime\")\n",
    "else:\n",
    "    for i in range(2,x):\n",
    "        if x%i==0:\n",
    "            y=True\n",
    "            break\n",
    "\n",
    "if y==True:\n",
    "    print(x, \"not prime\")\n",
    "else:\n",
    "    print(x,\" is prime\")    "
   ]
  },
  {
   "cell_type": "markdown",
   "id": "57f5cadd-1070-4190-8eed-aa7ed1be6b39",
   "metadata": {},
   "source": [
    "Exercise 2: Product of Random Numbers"
   ]
  },
  {
   "cell_type": "code",
   "execution_count": 21,
   "id": "9bab0bcf-6df2-4374-b56a-731383ec0b77",
   "metadata": {},
   "outputs": [
    {
     "name": "stdout",
     "output_type": "stream",
     "text": [
      "Enter product of  1  and  8\n"
     ]
    },
    {
     "name": "stdin",
     "output_type": "stream",
     "text": [
      ": 99\n"
     ]
    },
    {
     "name": "stdout",
     "output_type": "stream",
     "text": [
      "Wrong answer\n"
     ]
    }
   ],
   "source": [
    "import random\n",
    "x=random.randint(1,10)\n",
    "y=random.randint(1,10)\n",
    "print(\"Enter product of \",x,\" and \",y)\n",
    "c=int(input(\":\"))\n",
    "if c==x*y:\n",
    "    print(\"Correct ans\")\n",
    "else:\n",
    "    print(\"Wrong answer\")"
   ]
  },
  {
   "cell_type": "markdown",
   "id": "60798fdd-72c1-438c-8d19-4218e7f573cc",
   "metadata": {},
   "source": [
    "Exercise 3: Squares of Even/Odd Numbers"
   ]
  },
  {
   "cell_type": "code",
   "execution_count": 26,
   "id": "182ad548-9eb4-4a57-8179-d46d53b53b07",
   "metadata": {},
   "outputs": [
    {
     "name": "stdout",
     "output_type": "stream",
     "text": [
      "    Value  Square\n",
      "0     100   10000\n",
      "1     102   10404\n",
      "2     104   10816\n",
      "3     106   11236\n",
      "4     108   11664\n",
      "5     110   12100\n",
      "6     112   12544\n",
      "7     114   12996\n",
      "8     116   13456\n",
      "9     118   13924\n",
      "10    120   14400\n",
      "11    122   14884\n",
      "12    124   15376\n",
      "13    126   15876\n",
      "14    128   16384\n",
      "15    130   16900\n",
      "16    132   17424\n",
      "17    134   17956\n",
      "18    136   18496\n",
      "19    138   19044\n",
      "20    140   19600\n",
      "21    142   20164\n",
      "22    144   20736\n",
      "23    146   21316\n",
      "24    148   21904\n",
      "25    150   22500\n",
      "26    152   23104\n",
      "27    154   23716\n",
      "28    156   24336\n",
      "29    158   24964\n",
      "30    160   25600\n",
      "31    162   26244\n",
      "32    164   26896\n",
      "33    166   27556\n",
      "34    168   28224\n",
      "35    170   28900\n",
      "36    172   29584\n",
      "37    174   30276\n",
      "38    176   30976\n",
      "39    178   31684\n",
      "40    180   32400\n",
      "41    182   33124\n",
      "42    184   33856\n",
      "43    186   34596\n",
      "44    188   35344\n",
      "45    190   36100\n",
      "46    192   36864\n",
      "47    194   37636\n",
      "48    196   38416\n",
      "49    198   39204\n",
      "50    200   40000\n"
     ]
    }
   ],
   "source": [
    "import pandas as pd\n",
    "value=list(range(100,201,2))\n",
    "square=[]\n",
    "for x in value:\n",
    "    y=x**2\n",
    "    square.append(y)\n",
    "\n",
    "df=pd.DataFrame({\n",
    "    \"Value\":value,\n",
    "    \"Square\":square\n",
    "})\n",
    "print(df)"
   ]
  },
  {
   "cell_type": "markdown",
   "id": "84ec6861-cab5-4783-beb5-2a80a722b756",
   "metadata": {},
   "source": [
    "Exercise 4: Word counter"
   ]
  },
  {
   "cell_type": "code",
   "execution_count": 29,
   "id": "d3e7bddd-d9ae-405e-af51-fd3b1b1be5f8",
   "metadata": {},
   "outputs": [
    {
     "name": "stdout",
     "output_type": "stream",
     "text": [
      "'this': 2\n",
      "'is': 1\n",
      "'a': 1\n",
      "'sample': 1\n",
      "'text': 2\n",
      "'will': 1\n",
      "'be': 1\n",
      "'used': 1\n",
      "'to': 1\n",
      "'demonstrate': 1\n",
      "'the': 1\n",
      "'word': 1\n",
      "'counter': 1\n"
     ]
    },
    {
     "name": "stderr",
     "output_type": "stream",
     "text": [
      "<>:3: SyntaxWarning: invalid escape sequence '\\/'\n",
      "<>:3: SyntaxWarning: invalid escape sequence '\\/'\n",
      "C:\\Users\\Ved Patil\\AppData\\Local\\Temp\\ipykernel_17124\\3397714418.py:3: SyntaxWarning: invalid escape sequence '\\/'\n",
      "  for char in '.,!?;:()[]{}\"\\'\\/-':\n"
     ]
    }
   ],
   "source": [
    "def count_words(text):\n",
    "    text = text.lower()\n",
    "    for char in '.,!?;:()[]{}\"\\'\\/-':\n",
    "        text = text.replace(char, \" \")\n",
    "    words = text.split()\n",
    "    word_count = {}\n",
    "    \n",
    "    for word in words:\n",
    "        if word in word_count:\n",
    "            word_count[word] += 1\n",
    "        else:\n",
    "            word_count[word] = 1\n",
    "    return word_count\n",
    "\n",
    "def print_word_counts(word_count):\n",
    "    for word, count in word_count.items():\n",
    "        print(f\"'{word}': {count}\")\n",
    "\n",
    "def main():\n",
    "    input_text = \"This is a sample text. This text will be used to demonstrate the word counter.\"\n",
    "    word_count = count_words(input_text)\n",
    "    print_word_counts(word_count)\n",
    "\n",
    "if __name__ == \"__main__\":\n",
    "    main()\n"
   ]
  },
  {
   "cell_type": "markdown",
   "id": "ded3d32c-456e-45b7-bc07-9f5f4cf16a82",
   "metadata": {},
   "source": [
    "Exercise 5: Check for Palindrome"
   ]
  },
  {
   "cell_type": "code",
   "execution_count": 32,
   "id": "8918c50d-01ee-4123-9ebe-7c935b4e73e4",
   "metadata": {},
   "outputs": [
    {
     "name": "stdout",
     "output_type": "stream",
     "text": [
      "Is 'racecar' a palindrome? True\n",
      "Is 'A man, a plan, a canal, Panama!' a palindrome? True\n"
     ]
    }
   ],
   "source": [
    "import re\n",
    "\n",
    "def is_palindrome(s):\n",
    "    normalized_str = re.sub(r'[^A-Za-z0-9]', '', s).lower()\n",
    "\n",
    "    return normalized_str == normalized_str[::-1]\n",
    "\n",
    "input_str = \"racecar\"\n",
    "print(f\"Is '{input_str}' a palindrome? {is_palindrome(input_str)}\")\n",
    "\n",
    "input_str = \"A man, a plan, a canal, Panama!\"\n",
    "print(f\"Is '{input_str}' a palindrome? {is_palindrome(input_str)}\")"
   ]
  },
  {
   "cell_type": "code",
   "execution_count": null,
   "id": "f848d975-c77f-4ff7-a2e0-dab574d64dc1",
   "metadata": {},
   "outputs": [],
   "source": []
  }
 ],
 "metadata": {
  "kernelspec": {
   "display_name": "Python 3 (ipykernel)",
   "language": "python",
   "name": "python3"
  },
  "language_info": {
   "codemirror_mode": {
    "name": "ipython",
    "version": 3
   },
   "file_extension": ".py",
   "mimetype": "text/x-python",
   "name": "python",
   "nbconvert_exporter": "python",
   "pygments_lexer": "ipython3",
   "version": "3.12.7"
  }
 },
 "nbformat": 4,
 "nbformat_minor": 5
}
