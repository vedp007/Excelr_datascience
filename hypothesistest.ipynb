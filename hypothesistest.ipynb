{
 "cells": [
  {
   "cell_type": "markdown",
   "id": "e09edfb4-6f50-426d-859e-32a7fdf69b16",
   "metadata": {},
   "source": [
    "HYPOTHESIS TESTING\n",
    "Data Provided:\n",
    "•\tThe theoretical weekly operating cost model: W = $1,000 + $5X\n",
    "•\tSample of 25 restaurants with a mean weekly cost of Rs. 3,050\n",
    "•\tNumber of units produced in a week (X) follows a normal distribution with a mean (μ) of 600 units and a standard deviation (σ) of 25 units\n"
   ]
  },
  {
   "cell_type": "markdown",
   "id": "379bc93a-c00d-4a2d-8eda-fb819569e875",
   "metadata": {},
   "source": [
    "1. State the Hypotheses statement:"
   ]
  },
  {
   "cell_type": "code",
   "execution_count": 29,
   "id": "fffa1a89-0bca-4030-8c2f-33ddbdc01cb4",
   "metadata": {},
   "outputs": [],
   "source": [
    "#Null hypothesis\n",
    "#u=4000\n",
    "#ho=mean weakly cost is 4000"
   ]
  },
  {
   "cell_type": "code",
   "execution_count": 9,
   "id": "129bd144-b296-4315-9ee5-30cb22f36286",
   "metadata": {},
   "outputs": [],
   "source": [
    "#alternate hypothesis\n",
    "#u>4000\n",
    "#ha=mean weakly cost greater than 4000"
   ]
  },
  {
   "cell_type": "code",
   "execution_count": 11,
   "id": "48d8ee2f-bf07-4c80-ba4b-d4738bf50e55",
   "metadata": {},
   "outputs": [],
   "source": [
    "import numpy as np\n",
    "import scipy.stats as st"
   ]
  },
  {
   "cell_type": "code",
   "execution_count": 23,
   "id": "6c87fb4c-1d4d-4596-9d97-12448e1ad500",
   "metadata": {},
   "outputs": [],
   "source": [
    "sample_mean=3050\n",
    "theoretical_mean=4000\n",
    "std_dev=5*25  \n",
    "n=25\n",
    "alpha=0.05 \n",
    "standard_error=std_dev/np.sqrt(n)\n",
    "z_score=(sample_mean-theoretical_mean)/standard_error\n",
    "z_critical=st.norm.ppf(1-alpha)"
   ]
  },
  {
   "cell_type": "code",
   "execution_count": 25,
   "id": "ecd13010-8206-451a-8800-fbd756020b0c",
   "metadata": {},
   "outputs": [
    {
     "name": "stdout",
     "output_type": "stream",
     "text": [
      "Sample Mean: 3050\n",
      "Theoretical Mean: 4000\n",
      "Standard Deviation: 125\n",
      "Standard Error: 25.0\n",
      "Z-Score (Test Statistic): -38.0\n",
      "Critical Value (Z at 0.05): 1.6448536269514722\n"
     ]
    }
   ],
   "source": [
    "print(\"Sample Mean:\", sample_mean)\n",
    "print(\"Theoretical Mean:\", theoretical_mean)\n",
    "print(\"Standard Deviation:\", std_dev)\n",
    "print(\"Standard Error:\", standard_error)\n",
    "print(\"Z-Score (Test Statistic):\", z_score)\n",
    "print(\"Critical Value (Z at 0.05):\", z_critical)"
   ]
  },
  {
   "cell_type": "code",
   "execution_count": 27,
   "id": "f126dce8-211e-47e2-9434-95009875a4eb",
   "metadata": {},
   "outputs": [
    {
     "name": "stdout",
     "output_type": "stream",
     "text": [
      "Fail to Reject the Null Hypothesis that is costs have not increased.\n"
     ]
    }
   ],
   "source": [
    "if z_score>z_critical:\n",
    "    print(\"Reject the Null Hypothesis that is costs have increased.\")\n",
    "else:\n",
    "    print(\"Fail to Reject the Null Hypothesis that is costs have not increased.\")"
   ]
  },
  {
   "cell_type": "code",
   "execution_count": null,
   "id": "ab4e7b66-3875-4a83-b14c-6e0bb471ba13",
   "metadata": {},
   "outputs": [],
   "source": []
  }
 ],
 "metadata": {
  "kernelspec": {
   "display_name": "Python 3 (ipykernel)",
   "language": "python",
   "name": "python3"
  },
  "language_info": {
   "codemirror_mode": {
    "name": "ipython",
    "version": 3
   },
   "file_extension": ".py",
   "mimetype": "text/x-python",
   "name": "python",
   "nbconvert_exporter": "python",
   "pygments_lexer": "ipython3",
   "version": "3.12.7"
  }
 },
 "nbformat": 4,
 "nbformat_minor": 5
}
